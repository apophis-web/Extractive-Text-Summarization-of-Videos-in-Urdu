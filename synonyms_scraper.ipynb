{
 "cells": [
  {
   "cell_type": "code",
   "execution_count": 1,
   "id": "2f1f4371",
   "metadata": {},
   "outputs": [],
   "source": [
    "import random,time,os,sys\n",
    "import pandas as pd\n",
    "import numpy as np\n",
    "from selenium import webdriver\n",
    "from pathlib import Path\n",
    "from selenium.webdriver.common.keys import Keys\n",
    "from selenium.webdriver.common.by import By\n",
    "from selenium.webdriver.support.ui import WebDriverWait\n",
    "from selenium.webdriver.support import expected_conditions as EC\n",
    "from time import sleep\n",
    "from bs4 import BeautifulSoup\n"
   ]
  },
  {
   "cell_type": "code",
   "execution_count": 2,
   "id": "c7f78a34",
   "metadata": {
    "scrolled": true
   },
   "outputs": [
    {
     "name": "stderr",
     "output_type": "stream",
     "text": [
      "<ipython-input-2-b3b5c0994580>:3: DeprecationWarning: executable_path has been deprecated, please pass in a Service object\n",
      "  wbD = webdriver.Chrome(executable_path=str(chrome_file), chrome_options=chrome_options)\n",
      "<ipython-input-2-b3b5c0994580>:3: DeprecationWarning: use options instead of chrome_options\n",
      "  wbD = webdriver.Chrome(executable_path=str(chrome_file), chrome_options=chrome_options)\n"
     ]
    }
   ],
   "source": [
    "chrome_options = webdriver.ChromeOptions()\n",
    "chrome_file = \"C:\\chromedriver.exe\"\n",
    "wbD = webdriver.Chrome(executable_path=str(chrome_file), chrome_options=chrome_options)"
   ]
  },
  {
   "cell_type": "code",
   "execution_count": 3,
   "id": "3495dc55",
   "metadata": {},
   "outputs": [],
   "source": [
    "import string\n",
    "alphabet = list(string.ascii_lowercase)\n",
    "cap_alphabet = []\n",
    "for i in alphabet:\n",
    "    cap_alphabet.append(i.upper())\n",
    "\n",
    "nums= []\n",
    "for i in range(10):\n",
    "    nums.append(str(i))\n"
   ]
  },
  {
   "cell_type": "code",
   "execution_count": 4,
   "id": "d549666f",
   "metadata": {},
   "outputs": [
    {
     "data": {
      "text/plain": [
       "['0', '1', '2', '3', '4', '5', '6', '7', '8', '9']"
      ]
     },
     "execution_count": 4,
     "metadata": {},
     "output_type": "execute_result"
    }
   ],
   "source": [
    "nums"
   ]
  },
  {
   "cell_type": "code",
   "execution_count": 5,
   "id": "32aef63a",
   "metadata": {},
   "outputs": [],
   "source": [
    "f = open(r\"C:\\Users\\Shehroz\\Downloads\\c.txt\", \"r\",  encoding='utf-8')\n",
    "f = f.readlines()"
   ]
  },
  {
   "cell_type": "code",
   "execution_count": 6,
   "id": "4c221a77",
   "metadata": {},
   "outputs": [],
   "source": [
    "for i in range(len(f)):\n",
    "    f[i] = f[i].replace(\"\\n\", \"\")"
   ]
  },
  {
   "cell_type": "code",
   "execution_count": 7,
   "id": "14656ba9",
   "metadata": {},
   "outputs": [],
   "source": [
    "synons= {}"
   ]
  },
  {
   "cell_type": "code",
   "execution_count": 8,
   "id": "0c68ba51",
   "metadata": {},
   "outputs": [],
   "source": [
    "def getSynonyms(word):\n",
    "    sleep(2)\n",
    "    wbD.get(\"https://www.google.com\")\n",
    "    sleep(3)\n",
    "    search = wbD.find_element_by_xpath(\"/html/body/div[1]/div[3]/form/div[1]/div[1]/div[1]/div/div[2]/input\") #geting search box\n",
    "    k = word + \" synonym urdupoint\"\n",
    "    search.send_keys(k)\n",
    "    search.send_keys(Keys.RETURN)\n",
    "    sleep(2)\n",
    "    page_source = wbD.page_source\n",
    "    soup = BeautifulSoup(page_source, 'lxml')\n",
    "\n",
    "    lin = soup.find_all(\"div\", {\"class\": \"yuRUbf\"})\n",
    "    lin = lin[0].a['href']\n",
    "    wbD.get(lin)\n",
    "\n",
    "    syns = wbD.find_elements_by_xpath(\"/html/body/div[2]/div/div/div[11]/div[1]/table\")\n",
    "    syns[0].text\n",
    "    syns = syns[0].text.split(\"\\n\")\n",
    "    syns = syns[1::2]\n",
    "    #print (syns)\n",
    "    syns2 = []\n",
    "    for i in range(len(syns)):\n",
    "        if (len(syns[i].split(\" \")) == 1):\n",
    "            syns2.append(syns[i])\n",
    "    #print (\"Syns is\", syns)\n",
    "    s2 =[]\n",
    "    for i in range(len(syns)):\n",
    "        check = any(item in syns[i] for item in nums)\n",
    "        check2 = any(item in syns[i] for item in cap_alphabet)\n",
    "        check3 = any(item in syns[i] for item in alphabet)\n",
    "        if (check == False and check2 == False and check3 == False):\n",
    "            s2.append(syns[i])\n",
    "    \n",
    "    return s2"
   ]
  },
  {
   "cell_type": "code",
   "execution_count": 9,
   "id": "786d68f9",
   "metadata": {},
   "outputs": [],
   "source": [
    "s = ['Hasid', 'ازخود', 'Inditing', 'Roost', 'ایذا', 'Conspiring', 'Tutoyer', 'Clerkly', 'اجراء', 'Topis', 'Demising', 'Litmus', 'Encompassing', 'Constructiveness', 'Unreceptive', 'الیاس', 'Impersonates', 'اثاثے', 'Disintegrates', 'Upcasting', 'Individualisms', 'اشتہار', 'Consequences', 'اخرمہ', 'Increasers', 'Ankylostomiasis', 'Yearlings', 'Jackdaws', 'Galumph', 'اتارنا', 'Finality', 'MYO', 'Undercroft', 'Fluorocarbons', 'Blind', 'Uplifted', 'Gorilla', 'Succinctness', 'Indebted', 'Metabolizes', 'انتہائی', 'Instrumenting', 'Exciter', 'Considerately', 'اضمحلال', 'Adder', 'اختراع', 'Mullahs', 'انگریز', 'License', 'Regions', 'Graffiti', 'Anodizes', 'Propagated', 'اِضطرار', 'Romped']"
   ]
  },
  {
   "cell_type": "code",
   "execution_count": 10,
   "id": "e9231a12",
   "metadata": {},
   "outputs": [
    {
     "data": {
      "text/plain": [
       "'ازخود'"
      ]
     },
     "execution_count": 10,
     "metadata": {},
     "output_type": "execute_result"
    }
   ],
   "source": [
    "s[1]"
   ]
  },
  {
   "cell_type": "code",
   "execution_count": 11,
   "id": "e2b390ae",
   "metadata": {},
   "outputs": [],
   "source": [
    "s2 =[]\n",
    "for i in range(len(s)):\n",
    "    check = any(item in s[i] for item in nums)\n",
    "    check2 = any(item in s[i] for item in cap_alphabet)\n",
    "    check3 = any(item in s[i] for item in alphabet)\n",
    "    if (check == False and check2 == False and check3 == False):\n",
    "        s2.append(s[i])"
   ]
  },
  {
   "cell_type": "code",
   "execution_count": 12,
   "id": "1de68ad2",
   "metadata": {},
   "outputs": [
    {
     "data": {
      "text/plain": [
       "['ازخود',\n",
       " 'ایذا',\n",
       " 'اجراء',\n",
       " 'الیاس',\n",
       " 'اثاثے',\n",
       " 'اشتہار',\n",
       " 'اخرمہ',\n",
       " 'اتارنا',\n",
       " 'انتہائی',\n",
       " 'اضمحلال',\n",
       " 'اختراع',\n",
       " 'انگریز',\n",
       " 'اِضطرار']"
      ]
     },
     "execution_count": 12,
     "metadata": {},
     "output_type": "execute_result"
    }
   ],
   "source": [
    "s2"
   ]
  },
  {
   "cell_type": "code",
   "execution_count": 13,
   "id": "9e2a5a59",
   "metadata": {},
   "outputs": [
    {
     "name": "stdout",
     "output_type": "stream",
     "text": [
      "False\n"
     ]
    }
   ],
   "source": [
    "check = any(item in \"Adder\" for item in nums)\n",
    "print (check)"
   ]
  },
  {
   "cell_type": "code",
   "execution_count": 14,
   "id": "e96f9ff0",
   "metadata": {},
   "outputs": [
    {
     "data": {
      "text/plain": [
       "'میں'"
      ]
     },
     "execution_count": 14,
     "metadata": {},
     "output_type": "execute_result"
    }
   ],
   "source": [
    "f[0]"
   ]
  },
  {
   "cell_type": "code",
   "execution_count": 15,
   "id": "8a85dd95",
   "metadata": {},
   "outputs": [],
   "source": [
    "f2 = open(\"SYNS.txt\", \"w\" ,encoding='utf-8')"
   ]
  },
  {
   "cell_type": "code",
   "execution_count": null,
   "id": "e4700e10",
   "metadata": {
    "scrolled": true
   },
   "outputs": [],
   "source": [
    "count = 0\n",
    "for i in f:\n",
    "    if (count == 2000):\n",
    "        break\n",
    "    i (i not in synons.keys()):\n",
    "        #print (\"I is now\", i)\n",
    "      a\n",
    "    \n",
    "        #synons[i] =\n",
    "        try:\n",
    "            sr = \"\"\n",
    "            w = getSynonyms(i)\n",
    "            if (len(w) <= 5 and len(w) >= 1):\n",
    "                sr = sr + \"\\n\"\n",
    "                synons[i]= w\n",
    "                sr = i + \": \"\n",
    "                for j in w:\n",
    "                    sr = sr + \",\" + j\n",
    "                sr = sr + \"\\n\"\n",
    "                print (\"Writing\", sr)\n",
    "                f2.write(sr)\n",
    "                print (\"Word is\", i , \" and syn is \", synons[i])\n",
    "                count = count + 1\n",
    "        except:\n",
    "            pass\n",
    "    \n",
    "    #print (\"Syns is now\", synons)"
   ]
  },
  {
   "cell_type": "code",
   "execution_count": null,
   "id": "06899ca8",
   "metadata": {},
   "outputs": [],
   "source": [
    "f2.close()"
   ]
  },
  {
   "cell_type": "code",
   "execution_count": null,
   "id": "dcca080d",
   "metadata": {},
   "outputs": [],
   "source": []
  },
  {
   "cell_type": "code",
   "execution_count": null,
   "id": "00f6bf6f",
   "metadata": {},
   "outputs": [],
   "source": []
  },
  {
   "cell_type": "code",
   "execution_count": null,
   "id": "19627dd3",
   "metadata": {
    "scrolled": true
   },
   "outputs": [],
   "source": []
  },
  {
   "cell_type": "code",
   "execution_count": null,
   "id": "c346a8ef",
   "metadata": {},
   "outputs": [],
   "source": []
  },
  {
   "cell_type": "code",
   "execution_count": null,
   "id": "956e192e",
   "metadata": {},
   "outputs": [],
   "source": []
  }
 ],
 "metadata": {
  "kernelspec": {
   "display_name": "Python 3",
   "language": "python",
   "name": "python3"
  },
  "language_info": {
   "codemirror_mode": {
    "name": "ipython",
    "version": 3
   },
   "file_extension": ".py",
   "mimetype": "text/x-python",
   "name": "python",
   "nbconvert_exporter": "python",
   "pygments_lexer": "ipython3",
   "version": "3.8.8"
  }
 },
 "nbformat": 4,
 "nbformat_minor": 5
}
